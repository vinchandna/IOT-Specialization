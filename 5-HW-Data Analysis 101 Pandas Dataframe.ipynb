{
 "cells": [
  {
   "cell_type": "markdown",
   "metadata": {},
   "source": [
    "# Bank Marketing"
   ]
  },
  {
   "cell_type": "markdown",
   "metadata": {},
   "source": [
    "The <b>bank-marketing.csv</b> data is related with direct marketing campaigns of a Portuguese banking institution. The marketing campaigns were based on phone calls. Often, more than one contact to the same client was required, in order to access if the product (bank term deposit) would be (or not) subscribed. The ultimate goal is to predict if the client will subscribe to a term deposit (variable y). This is a classic classification problem where the attempt is to classify between two classes - those who'll subscribe and those who won't."
   ]
  },
  {
   "cell_type": "markdown",
   "metadata": {},
   "source": [
    "Dataset reference:\n",
    "- S. Moro, R. Laureano and P. Cortez. Using Data Mining for Bank Direct Marketing: An Application of the CRISP-DM Methodology. \n",
    "- In P. Novais et al. (Eds.), Proceedings of the European Simulation and Modelling Conference - ESM'2011, pp. 117-121, Guimarães, Portugal, October, 2011. EUROSIS."
   ]
  },
  {
   "cell_type": "markdown",
   "metadata": {},
   "source": [
    "#### Variable description:"
   ]
  },
  {
   "cell_type": "markdown",
   "metadata": {},
   "source": [
    "- 1 age (numeric)\n",
    "- 2 job : type of job (categorical: \"admin.\",\"unknown\",\"unemployed\",\"management\",\"housemaid\",\"entrepreneur\",\"student\", \"blue-collar\",\"self-employed\",\"retired\",\"technician\",\"services\") \n",
    "- 3 marital : marital status (categorical: \"married\",\"divorced\",\"single\"; note: \"divorced\" means divorced or widowed)\n",
    "- 4 education (categorical: \"unknown\",\"secondary\",\"primary\",\"tertiary\")\n",
    "- 5 default: has credit in default? (binary: \"yes\",\"no\")\n",
    "- 6 balance: average yearly balance, in euros (numeric) \n",
    "- 7 housing: has housing loan? (binary: \"yes\",\"no\")\n",
    "- 8 loan: has personal loan? (binary: \"yes\",\"no\")\n",
    "   \n",
    "#### related with the last contact of the current campaign:\n",
    "- 9 contact: contact communication type (categorical: \"unknown\",\"telephone\",\"cellular\") \n",
    "- 10 day: last contact day of the month (numeric)\n",
    "- 11 month: last contact month of year (categorical: \"jan\", \"feb\", \"mar\", ..., \"nov\", \"dec\")\n",
    "- 12 duration: last contact duration, in seconds (numeric)\n",
    "\n",
    "#### other attributes:\n",
    "- 13 campaign: number of contacts performed during this campaign and for this client (numeric, includes last contact)\n",
    "- 14 pdays: number of days that passed by after the client was last contacted from a previous campaign (numeric, -1 means client was not previously contacted)\n",
    "- 15 previous: number of contacts performed before this campaign and for this client (numeric)\n",
    "- 16 poutcome: outcome of the previous marketing campaign (categorical: \"unknown\",\"other\",\"failure\",\"success\")\n",
    "\n",
    "Output variable (desired target):\n",
    "- 17 y - has the client subscribed a term deposit? (binary: \"yes\",\"no\")"
   ]
  },
  {
   "cell_type": "markdown",
   "metadata": {},
   "source": [
    "### Read the dataset and answer the following questions."
   ]
  },
  {
   "cell_type": "code",
   "execution_count": 6,
   "metadata": {},
   "outputs": [],
   "source": [
    "import pandas as pd"
   ]
  },
  {
   "cell_type": "code",
   "execution_count": 19,
   "metadata": {},
   "outputs": [
    {
     "data": {
      "text/html": [
       "<div>\n",
       "<style scoped>\n",
       "    .dataframe tbody tr th:only-of-type {\n",
       "        vertical-align: middle;\n",
       "    }\n",
       "\n",
       "    .dataframe tbody tr th {\n",
       "        vertical-align: top;\n",
       "    }\n",
       "\n",
       "    .dataframe thead th {\n",
       "        text-align: right;\n",
       "    }\n",
       "</style>\n",
       "<table border=\"1\" class=\"dataframe\">\n",
       "  <thead>\n",
       "    <tr style=\"text-align: right;\">\n",
       "      <th></th>\n",
       "      <th>age</th>\n",
       "      <th>job</th>\n",
       "      <th>marital</th>\n",
       "      <th>education</th>\n",
       "      <th>default</th>\n",
       "      <th>balance</th>\n",
       "      <th>housing</th>\n",
       "      <th>loan</th>\n",
       "      <th>contact</th>\n",
       "      <th>day</th>\n",
       "      <th>month</th>\n",
       "      <th>duration</th>\n",
       "      <th>campaign</th>\n",
       "      <th>pdays</th>\n",
       "      <th>previous</th>\n",
       "      <th>poutcome</th>\n",
       "      <th>y</th>\n",
       "    </tr>\n",
       "  </thead>\n",
       "  <tbody>\n",
       "    <tr>\n",
       "      <td>0</td>\n",
       "      <td>30</td>\n",
       "      <td>unemployed</td>\n",
       "      <td>married</td>\n",
       "      <td>primary</td>\n",
       "      <td>no</td>\n",
       "      <td>1787</td>\n",
       "      <td>no</td>\n",
       "      <td>no</td>\n",
       "      <td>cellular</td>\n",
       "      <td>19</td>\n",
       "      <td>oct</td>\n",
       "      <td>79</td>\n",
       "      <td>1</td>\n",
       "      <td>-1</td>\n",
       "      <td>0</td>\n",
       "      <td>unknown</td>\n",
       "      <td>no</td>\n",
       "    </tr>\n",
       "    <tr>\n",
       "      <td>1</td>\n",
       "      <td>33</td>\n",
       "      <td>services</td>\n",
       "      <td>married</td>\n",
       "      <td>secondary</td>\n",
       "      <td>no</td>\n",
       "      <td>4789</td>\n",
       "      <td>yes</td>\n",
       "      <td>yes</td>\n",
       "      <td>cellular</td>\n",
       "      <td>11</td>\n",
       "      <td>may</td>\n",
       "      <td>220</td>\n",
       "      <td>1</td>\n",
       "      <td>339</td>\n",
       "      <td>4</td>\n",
       "      <td>failure</td>\n",
       "      <td>no</td>\n",
       "    </tr>\n",
       "    <tr>\n",
       "      <td>2</td>\n",
       "      <td>35</td>\n",
       "      <td>management</td>\n",
       "      <td>single</td>\n",
       "      <td>tertiary</td>\n",
       "      <td>no</td>\n",
       "      <td>1350</td>\n",
       "      <td>yes</td>\n",
       "      <td>no</td>\n",
       "      <td>cellular</td>\n",
       "      <td>16</td>\n",
       "      <td>apr</td>\n",
       "      <td>185</td>\n",
       "      <td>1</td>\n",
       "      <td>330</td>\n",
       "      <td>1</td>\n",
       "      <td>failure</td>\n",
       "      <td>no</td>\n",
       "    </tr>\n",
       "    <tr>\n",
       "      <td>3</td>\n",
       "      <td>30</td>\n",
       "      <td>management</td>\n",
       "      <td>married</td>\n",
       "      <td>tertiary</td>\n",
       "      <td>no</td>\n",
       "      <td>1476</td>\n",
       "      <td>yes</td>\n",
       "      <td>yes</td>\n",
       "      <td>unknown</td>\n",
       "      <td>3</td>\n",
       "      <td>jun</td>\n",
       "      <td>199</td>\n",
       "      <td>4</td>\n",
       "      <td>-1</td>\n",
       "      <td>0</td>\n",
       "      <td>unknown</td>\n",
       "      <td>no</td>\n",
       "    </tr>\n",
       "    <tr>\n",
       "      <td>4</td>\n",
       "      <td>59</td>\n",
       "      <td>blue-collar</td>\n",
       "      <td>married</td>\n",
       "      <td>secondary</td>\n",
       "      <td>no</td>\n",
       "      <td>0</td>\n",
       "      <td>yes</td>\n",
       "      <td>no</td>\n",
       "      <td>unknown</td>\n",
       "      <td>5</td>\n",
       "      <td>may</td>\n",
       "      <td>226</td>\n",
       "      <td>1</td>\n",
       "      <td>-1</td>\n",
       "      <td>0</td>\n",
       "      <td>unknown</td>\n",
       "      <td>no</td>\n",
       "    </tr>\n",
       "    <tr>\n",
       "      <td>...</td>\n",
       "      <td>...</td>\n",
       "      <td>...</td>\n",
       "      <td>...</td>\n",
       "      <td>...</td>\n",
       "      <td>...</td>\n",
       "      <td>...</td>\n",
       "      <td>...</td>\n",
       "      <td>...</td>\n",
       "      <td>...</td>\n",
       "      <td>...</td>\n",
       "      <td>...</td>\n",
       "      <td>...</td>\n",
       "      <td>...</td>\n",
       "      <td>...</td>\n",
       "      <td>...</td>\n",
       "      <td>...</td>\n",
       "      <td>...</td>\n",
       "    </tr>\n",
       "    <tr>\n",
       "      <td>4516</td>\n",
       "      <td>33</td>\n",
       "      <td>services</td>\n",
       "      <td>married</td>\n",
       "      <td>secondary</td>\n",
       "      <td>no</td>\n",
       "      <td>-333</td>\n",
       "      <td>yes</td>\n",
       "      <td>no</td>\n",
       "      <td>cellular</td>\n",
       "      <td>30</td>\n",
       "      <td>jul</td>\n",
       "      <td>329</td>\n",
       "      <td>5</td>\n",
       "      <td>-1</td>\n",
       "      <td>0</td>\n",
       "      <td>unknown</td>\n",
       "      <td>no</td>\n",
       "    </tr>\n",
       "    <tr>\n",
       "      <td>4517</td>\n",
       "      <td>57</td>\n",
       "      <td>self-employed</td>\n",
       "      <td>married</td>\n",
       "      <td>tertiary</td>\n",
       "      <td>yes</td>\n",
       "      <td>-3313</td>\n",
       "      <td>yes</td>\n",
       "      <td>yes</td>\n",
       "      <td>unknown</td>\n",
       "      <td>9</td>\n",
       "      <td>may</td>\n",
       "      <td>153</td>\n",
       "      <td>1</td>\n",
       "      <td>-1</td>\n",
       "      <td>0</td>\n",
       "      <td>unknown</td>\n",
       "      <td>no</td>\n",
       "    </tr>\n",
       "    <tr>\n",
       "      <td>4518</td>\n",
       "      <td>57</td>\n",
       "      <td>technician</td>\n",
       "      <td>married</td>\n",
       "      <td>secondary</td>\n",
       "      <td>no</td>\n",
       "      <td>295</td>\n",
       "      <td>no</td>\n",
       "      <td>no</td>\n",
       "      <td>cellular</td>\n",
       "      <td>19</td>\n",
       "      <td>aug</td>\n",
       "      <td>151</td>\n",
       "      <td>11</td>\n",
       "      <td>-1</td>\n",
       "      <td>0</td>\n",
       "      <td>unknown</td>\n",
       "      <td>no</td>\n",
       "    </tr>\n",
       "    <tr>\n",
       "      <td>4519</td>\n",
       "      <td>28</td>\n",
       "      <td>blue-collar</td>\n",
       "      <td>married</td>\n",
       "      <td>secondary</td>\n",
       "      <td>no</td>\n",
       "      <td>1137</td>\n",
       "      <td>no</td>\n",
       "      <td>no</td>\n",
       "      <td>cellular</td>\n",
       "      <td>6</td>\n",
       "      <td>feb</td>\n",
       "      <td>129</td>\n",
       "      <td>4</td>\n",
       "      <td>211</td>\n",
       "      <td>3</td>\n",
       "      <td>other</td>\n",
       "      <td>no</td>\n",
       "    </tr>\n",
       "    <tr>\n",
       "      <td>4520</td>\n",
       "      <td>44</td>\n",
       "      <td>entrepreneur</td>\n",
       "      <td>single</td>\n",
       "      <td>tertiary</td>\n",
       "      <td>no</td>\n",
       "      <td>1136</td>\n",
       "      <td>yes</td>\n",
       "      <td>yes</td>\n",
       "      <td>cellular</td>\n",
       "      <td>3</td>\n",
       "      <td>apr</td>\n",
       "      <td>345</td>\n",
       "      <td>2</td>\n",
       "      <td>249</td>\n",
       "      <td>7</td>\n",
       "      <td>other</td>\n",
       "      <td>no</td>\n",
       "    </tr>\n",
       "  </tbody>\n",
       "</table>\n",
       "<p>4521 rows × 17 columns</p>\n",
       "</div>"
      ],
      "text/plain": [
       "      age            job  marital  education default  balance housing loan  \\\n",
       "0      30     unemployed  married    primary      no     1787      no   no   \n",
       "1      33       services  married  secondary      no     4789     yes  yes   \n",
       "2      35     management   single   tertiary      no     1350     yes   no   \n",
       "3      30     management  married   tertiary      no     1476     yes  yes   \n",
       "4      59    blue-collar  married  secondary      no        0     yes   no   \n",
       "...   ...            ...      ...        ...     ...      ...     ...  ...   \n",
       "4516   33       services  married  secondary      no     -333     yes   no   \n",
       "4517   57  self-employed  married   tertiary     yes    -3313     yes  yes   \n",
       "4518   57     technician  married  secondary      no      295      no   no   \n",
       "4519   28    blue-collar  married  secondary      no     1137      no   no   \n",
       "4520   44   entrepreneur   single   tertiary      no     1136     yes  yes   \n",
       "\n",
       "       contact  day month  duration  campaign  pdays  previous poutcome   y  \n",
       "0     cellular   19   oct        79         1     -1         0  unknown  no  \n",
       "1     cellular   11   may       220         1    339         4  failure  no  \n",
       "2     cellular   16   apr       185         1    330         1  failure  no  \n",
       "3      unknown    3   jun       199         4     -1         0  unknown  no  \n",
       "4      unknown    5   may       226         1     -1         0  unknown  no  \n",
       "...        ...  ...   ...       ...       ...    ...       ...      ...  ..  \n",
       "4516  cellular   30   jul       329         5     -1         0  unknown  no  \n",
       "4517   unknown    9   may       153         1     -1         0  unknown  no  \n",
       "4518  cellular   19   aug       151        11     -1         0  unknown  no  \n",
       "4519  cellular    6   feb       129         4    211         3    other  no  \n",
       "4520  cellular    3   apr       345         2    249         7    other  no  \n",
       "\n",
       "[4521 rows x 17 columns]"
      ]
     },
     "execution_count": 19,
     "metadata": {},
     "output_type": "execute_result"
    }
   ],
   "source": [
    "df = pd.read_csv('bank-marketing.csv')\n",
    "df"
   ]
  },
  {
   "cell_type": "markdown",
   "metadata": {},
   "source": [
    "### Question"
   ]
  },
  {
   "cell_type": "markdown",
   "metadata": {},
   "source": [
    "Extract all column names. Count the number of columns (using code)."
   ]
  },
  {
   "cell_type": "code",
   "execution_count": 18,
   "metadata": {},
   "outputs": [
    {
     "name": "stdout",
     "output_type": "stream",
     "text": [
      "Index(['age', 'job', 'marital', 'education', 'default', 'balance', 'housing',\n",
      "       'loan', 'contact', 'day', 'month', 'duration', 'campaign', 'pdays',\n",
      "       'previous', 'poutcome', 'y'],\n",
      "      dtype='object')\n"
     ]
    },
    {
     "data": {
      "text/plain": [
       "17"
      ]
     },
     "execution_count": 18,
     "metadata": {},
     "output_type": "execute_result"
    }
   ],
   "source": [
    "print (df.columns)\n",
    "\n",
    "len(df.columns)"
   ]
  },
  {
   "cell_type": "markdown",
   "metadata": {},
   "source": [
    "### Question"
   ]
  },
  {
   "cell_type": "markdown",
   "metadata": {},
   "source": [
    "Is data in the correct format? By that we mean, do you see integers and floats where you expect them to be the case? If not, convert them into the correct format. Also make sure that all entries are non-null."
   ]
  },
  {
   "cell_type": "code",
   "execution_count": 63,
   "metadata": {},
   "outputs": [
    {
     "name": "stdout",
     "output_type": "stream",
     "text": [
      "       age   job  marital  education  default  balance  housing  loan  \\\n",
      "0     True  True     True       True     True     True     True  True   \n",
      "1     True  True     True       True     True     True     True  True   \n",
      "2     True  True     True       True     True     True     True  True   \n",
      "3     True  True     True       True     True     True     True  True   \n",
      "4     True  True     True       True     True     True     True  True   \n",
      "...    ...   ...      ...        ...      ...      ...      ...   ...   \n",
      "4516  True  True     True       True     True     True     True  True   \n",
      "4517  True  True     True       True     True     True     True  True   \n",
      "4518  True  True     True       True     True     True     True  True   \n",
      "4519  True  True     True       True     True     True     True  True   \n",
      "4520  True  True     True       True     True     True     True  True   \n",
      "\n",
      "      contact   day  month  duration  campaign  pdays  previous  poutcome  \\\n",
      "0        True  True   True      True      True   True      True      True   \n",
      "1        True  True   True      True      True   True      True      True   \n",
      "2        True  True   True      True      True   True      True      True   \n",
      "3        True  True   True      True      True   True      True      True   \n",
      "4        True  True   True      True      True   True      True      True   \n",
      "...       ...   ...    ...       ...       ...    ...       ...       ...   \n",
      "4516     True  True   True      True      True   True      True      True   \n",
      "4517     True  True   True      True      True   True      True      True   \n",
      "4518     True  True   True      True      True   True      True      True   \n",
      "4519     True  True   True      True      True   True      True      True   \n",
      "4520     True  True   True      True      True   True      True      True   \n",
      "\n",
      "         y  \n",
      "0     True  \n",
      "1     True  \n",
      "2     True  \n",
      "3     True  \n",
      "4     True  \n",
      "...    ...  \n",
      "4516  True  \n",
      "4517  True  \n",
      "4518  True  \n",
      "4519  True  \n",
      "4520  True  \n",
      "\n",
      "[4521 rows x 17 columns]\n",
      "age\n",
      "job\n",
      "marital\n",
      "education\n",
      "default\n",
      "balance\n",
      "housing\n",
      "loan\n",
      "contact\n",
      "day\n",
      "month\n",
      "duration\n",
      "campaign\n",
      "pdays\n",
      "previous\n",
      "poutcome\n",
      "y\n"
     ]
    }
   ],
   "source": [
    "#df.dtypes \n",
    "\n",
    "n_null = []\n",
    "#n_null = df.isna\n",
    "#print (df.isna)\n",
    "n_null = df.notna()\n",
    "#print (df.notna())\n",
    "print (n_null)\n",
    "for item in n_null:\n",
    "    if item != False:\n",
    "     print(item)"
   ]
  },
  {
   "cell_type": "markdown",
   "metadata": {},
   "source": [
    "### Question"
   ]
  },
  {
   "cell_type": "markdown",
   "metadata": {},
   "source": [
    "Provide a general summary statistics of the entire dataset. The describe() method is what you would want to use."
   ]
  },
  {
   "cell_type": "code",
   "execution_count": 56,
   "metadata": {},
   "outputs": [
    {
     "data": {
      "text/html": [
       "<div>\n",
       "<style scoped>\n",
       "    .dataframe tbody tr th:only-of-type {\n",
       "        vertical-align: middle;\n",
       "    }\n",
       "\n",
       "    .dataframe tbody tr th {\n",
       "        vertical-align: top;\n",
       "    }\n",
       "\n",
       "    .dataframe thead th {\n",
       "        text-align: right;\n",
       "    }\n",
       "</style>\n",
       "<table border=\"1\" class=\"dataframe\">\n",
       "  <thead>\n",
       "    <tr style=\"text-align: right;\">\n",
       "      <th></th>\n",
       "      <th>age</th>\n",
       "      <th>balance</th>\n",
       "      <th>day</th>\n",
       "      <th>duration</th>\n",
       "      <th>campaign</th>\n",
       "      <th>pdays</th>\n",
       "      <th>previous</th>\n",
       "    </tr>\n",
       "  </thead>\n",
       "  <tbody>\n",
       "    <tr>\n",
       "      <td>count</td>\n",
       "      <td>4521.000000</td>\n",
       "      <td>4521.000000</td>\n",
       "      <td>4521.000000</td>\n",
       "      <td>4521.000000</td>\n",
       "      <td>4521.000000</td>\n",
       "      <td>4521.000000</td>\n",
       "      <td>4521.000000</td>\n",
       "    </tr>\n",
       "    <tr>\n",
       "      <td>mean</td>\n",
       "      <td>41.170095</td>\n",
       "      <td>1422.657819</td>\n",
       "      <td>15.915284</td>\n",
       "      <td>263.961292</td>\n",
       "      <td>2.793630</td>\n",
       "      <td>39.766645</td>\n",
       "      <td>0.542579</td>\n",
       "    </tr>\n",
       "    <tr>\n",
       "      <td>std</td>\n",
       "      <td>10.576211</td>\n",
       "      <td>3009.638142</td>\n",
       "      <td>8.247667</td>\n",
       "      <td>259.856633</td>\n",
       "      <td>3.109807</td>\n",
       "      <td>100.121124</td>\n",
       "      <td>1.693562</td>\n",
       "    </tr>\n",
       "    <tr>\n",
       "      <td>min</td>\n",
       "      <td>19.000000</td>\n",
       "      <td>-3313.000000</td>\n",
       "      <td>1.000000</td>\n",
       "      <td>4.000000</td>\n",
       "      <td>1.000000</td>\n",
       "      <td>-1.000000</td>\n",
       "      <td>0.000000</td>\n",
       "    </tr>\n",
       "    <tr>\n",
       "      <td>25%</td>\n",
       "      <td>33.000000</td>\n",
       "      <td>69.000000</td>\n",
       "      <td>9.000000</td>\n",
       "      <td>104.000000</td>\n",
       "      <td>1.000000</td>\n",
       "      <td>-1.000000</td>\n",
       "      <td>0.000000</td>\n",
       "    </tr>\n",
       "    <tr>\n",
       "      <td>50%</td>\n",
       "      <td>39.000000</td>\n",
       "      <td>444.000000</td>\n",
       "      <td>16.000000</td>\n",
       "      <td>185.000000</td>\n",
       "      <td>2.000000</td>\n",
       "      <td>-1.000000</td>\n",
       "      <td>0.000000</td>\n",
       "    </tr>\n",
       "    <tr>\n",
       "      <td>75%</td>\n",
       "      <td>49.000000</td>\n",
       "      <td>1480.000000</td>\n",
       "      <td>21.000000</td>\n",
       "      <td>329.000000</td>\n",
       "      <td>3.000000</td>\n",
       "      <td>-1.000000</td>\n",
       "      <td>0.000000</td>\n",
       "    </tr>\n",
       "    <tr>\n",
       "      <td>max</td>\n",
       "      <td>87.000000</td>\n",
       "      <td>71188.000000</td>\n",
       "      <td>31.000000</td>\n",
       "      <td>3025.000000</td>\n",
       "      <td>50.000000</td>\n",
       "      <td>871.000000</td>\n",
       "      <td>25.000000</td>\n",
       "    </tr>\n",
       "  </tbody>\n",
       "</table>\n",
       "</div>"
      ],
      "text/plain": [
       "               age       balance          day     duration     campaign  \\\n",
       "count  4521.000000   4521.000000  4521.000000  4521.000000  4521.000000   \n",
       "mean     41.170095   1422.657819    15.915284   263.961292     2.793630   \n",
       "std      10.576211   3009.638142     8.247667   259.856633     3.109807   \n",
       "min      19.000000  -3313.000000     1.000000     4.000000     1.000000   \n",
       "25%      33.000000     69.000000     9.000000   104.000000     1.000000   \n",
       "50%      39.000000    444.000000    16.000000   185.000000     2.000000   \n",
       "75%      49.000000   1480.000000    21.000000   329.000000     3.000000   \n",
       "max      87.000000  71188.000000    31.000000  3025.000000    50.000000   \n",
       "\n",
       "             pdays     previous  \n",
       "count  4521.000000  4521.000000  \n",
       "mean     39.766645     0.542579  \n",
       "std     100.121124     1.693562  \n",
       "min      -1.000000     0.000000  \n",
       "25%      -1.000000     0.000000  \n",
       "50%      -1.000000     0.000000  \n",
       "75%      -1.000000     0.000000  \n",
       "max     871.000000    25.000000  "
      ]
     },
     "execution_count": 56,
     "metadata": {},
     "output_type": "execute_result"
    }
   ],
   "source": [
    "df.describe()\n"
   ]
  },
  {
   "cell_type": "markdown",
   "metadata": {},
   "source": [
    "### Question"
   ]
  },
  {
   "cell_type": "markdown",
   "metadata": {},
   "source": [
    "The data type of columns like job, married, education etc. is called categorical data. List all the different categories in the job column."
   ]
  },
  {
   "cell_type": "code",
   "execution_count": 62,
   "metadata": {},
   "outputs": [
    {
     "data": {
      "text/plain": [
       "management       969\n",
       "blue-collar      946\n",
       "technician       768\n",
       "admin            478\n",
       "services         417\n",
       "retired          230\n",
       "self-employed    183\n",
       "entrepreneur     168\n",
       "unemployed       128\n",
       "housemaid        112\n",
       "student           84\n",
       "unknown           38\n",
       "Name: job, dtype: int64"
      ]
     },
     "execution_count": 62,
     "metadata": {},
     "output_type": "execute_result"
    }
   ],
   "source": [
    "#df\n",
    "#df.describe(include='all')\n",
    "\n",
    "df['job'].value_counts()"
   ]
  },
  {
   "cell_type": "markdown",
   "metadata": {},
   "source": [
    "### Question"
   ]
  },
  {
   "cell_type": "markdown",
   "metadata": {},
   "source": [
    "In one line of code, provide a count of the number of people who were unemployed and owned a home."
   ]
  },
  {
   "cell_type": "code",
   "execution_count": 119,
   "metadata": {},
   "outputs": [
    {
     "data": {
      "text/plain": [
       "58"
      ]
     },
     "execution_count": 119,
     "metadata": {},
     "output_type": "execute_result"
    }
   ],
   "source": [
    "\n",
    "len(df.loc[(df['job'] == 'unemployed') & (df['housing'] == 'yes')])\n"
   ]
  },
  {
   "cell_type": "markdown",
   "metadata": {},
   "source": [
    "### Question"
   ]
  },
  {
   "cell_type": "markdown",
   "metadata": {},
   "source": [
    "What is the education level of a typical blue-collar worker? Explore value_counts() method."
   ]
  },
  {
   "cell_type": "code",
   "execution_count": 110,
   "metadata": {},
   "outputs": [
    {
     "data": {
      "text/plain": [
       "secondary    524\n",
       "primary      369\n",
       "unknown       41\n",
       "tertiary      12\n",
       "Name: education, dtype: int64"
      ]
     },
     "execution_count": 110,
     "metadata": {},
     "output_type": "execute_result"
    }
   ],
   "source": [
    "df.loc[(df['job'] == 'blue-collar') , 'education'].value_counts()\n",
    "\n"
   ]
  },
  {
   "cell_type": "markdown",
   "metadata": {},
   "source": [
    "### Question"
   ]
  },
  {
   "cell_type": "markdown",
   "metadata": {},
   "source": [
    "How many who are unemployed have an outstanding loan? Is that percentage more than that of the employed ones? "
   ]
  },
  {
   "cell_type": "code",
   "execution_count": 138,
   "metadata": {},
   "outputs": [
    {
     "name": "stdout",
     "output_type": "stream",
     "text": [
      "Total Records:  4521\n",
      "\n",
      " Total  unemployed have an outstanding loan  \n",
      "\n",
      "13\n",
      " \n",
      " % of  unemployed have an outstanding loan \n",
      "0.28754700287547\n",
      "  \n",
      "TOTAL  EMPLOYED have an outstanding loan \n",
      "\n",
      "678\n",
      " \n",
      "% of  EMPLOYED have an outstanding loan \n",
      "\n",
      "14.996682149966823\n",
      " \n",
      " How many who are unemployed have an outstanding loan? Is that percentage more than that of the employed ones? :  \n",
      "False\n"
     ]
    }
   ],
   "source": [
    "print(\"Total Records: \",  len(df))\n",
    "print(\"\\n Total  unemployed have an outstanding loan  \\n\")\n",
    "print(len(df[(df['job'] == 'unemployed') & (df['loan'] == 'yes')]))\n",
    "\n",
    "print(\" \\n % of  unemployed have an outstanding loan \")\n",
    "unemp = (len(df[(df['job'] == 'unemployed') & (df['loan'] == 'yes')]) / len(df)) *100\n",
    "print(unemp)\n",
    "\n",
    "\n",
    "print(\"  \\nTOTAL  EMPLOYED have an outstanding loan \\n\")\n",
    "\n",
    "\n",
    "print(len(df[(df['job'] != 'unemployed') & (df['loan'] == 'yes')]))\n",
    "\n",
    "\n",
    "print(\" \\n% of  EMPLOYED have an outstanding loan \\n\")\n",
    "\n",
    "emp= (len(df[(df['job'] != 'unemployed') & (df['loan'] == 'yes')]) / len(df)) *100\n",
    "print(emp)\n",
    "\n",
    "print(\" \\n How many who are unemployed have an outstanding loan? Is that percentage more than that of the employed ones? :  \")\n",
    "print(unemp>emp)\n"
   ]
  },
  {
   "cell_type": "markdown",
   "metadata": {},
   "source": [
    "### Question"
   ]
  },
  {
   "cell_type": "markdown",
   "metadata": {},
   "source": [
    "What percent of clients subscribed to the term deposit (column y)? "
   ]
  },
  {
   "cell_type": "code",
   "execution_count": 142,
   "metadata": {},
   "outputs": [
    {
     "name": "stdout",
     "output_type": "stream",
     "text": [
      "% of client  subscribed to the term deposit (column y)? \n"
     ]
    },
    {
     "data": {
      "text/plain": [
       "11.523999115239992"
      ]
     },
     "execution_count": 142,
     "metadata": {},
     "output_type": "execute_result"
    }
   ],
   "source": [
    "print(\"% of client  subscribed to the term deposit (column y)? \")\n",
    "len(df[(df['y'] == 'yes')])/len(df)*100\n"
   ]
  },
  {
   "cell_type": "markdown",
   "metadata": {},
   "source": [
    "### Question"
   ]
  },
  {
   "cell_type": "markdown",
   "metadata": {},
   "source": [
    "What percent of married clients subscribed to the term deposit? Is that more or less than that for single folks? "
   ]
  },
  {
   "cell_type": "code",
   "execution_count": 151,
   "metadata": {},
   "outputs": [
    {
     "name": "stdout",
     "output_type": "stream",
     "text": [
      "Total Records:  4521\n",
      "\n",
      " Total  MARRIED  have term deposit  \n",
      "\n",
      "277\n",
      " \n",
      " % of   MARRIED  have term deposit \n",
      "6.126963061269631\n",
      "  \n",
      "TOTAL SINGLE  have term deposit\n",
      "\n",
      "244\n",
      " \n",
      "%  of   SINGLE  have term deposit \n",
      "\n",
      "5.397036053970361\n",
      " \n",
      " What percent of married clients subscribed to the term deposit? Is that more or less than that for single folks? :  \n",
      "more MARRIED people : 6.126963061269631 % has TERM DEPOSIT than Single Forks: 5.397036053970361 \n"
     ]
    }
   ],
   "source": [
    "print(\"Total Records: \",  len(df))\n",
    "print(\"\\n Total  MARRIED  have term deposit  \\n\")\n",
    "print(len(df[(df['marital'] == 'married') & (df['y'] == 'yes')]))\n",
    "\n",
    "print(\" \\n % of   MARRIED  have term deposit \")\n",
    "unemp = (len(df[(df['marital'] == 'married') & (df['y'] == 'yes')]) / len(df)) *100\n",
    "print(unemp)\n",
    "\n",
    "\n",
    "print(\"  \\nTOTAL SINGLE  have term deposit\\n\")\n",
    "\n",
    "\n",
    "print(len(df[(df['marital'] != 'married') & (df['y'] == 'yes')]))\n",
    "\n",
    "\n",
    "print(\" \\n%  of   SINGLE  have term deposit \\n\")\n",
    "\n",
    "emp= (len(df[(df['marital'] != 'married') & (df['y'] == 'yes')]) / len(df)) *100\n",
    "print(emp)\n",
    "\n",
    "print(\" \\n What percent of married clients subscribed to the term deposit? Is that more or less than that for single folks? :  \")\n",
    "if unemp>emp :\n",
    "    print (\"More MARRIED people : {} % has TERM DEPOSIT than Single Forks: {} \".format(unemp, emp))\n"
   ]
  },
  {
   "cell_type": "markdown",
   "metadata": {},
   "source": [
    "### Question"
   ]
  },
  {
   "cell_type": "markdown",
   "metadata": {},
   "source": [
    "<p>Ask an interesting question of this data set and provide a solution to answer that.</p>\n",
    "<p>The goal is to help teach your fellow students all possible questions we can collectively ask of this dataset. Your question should be as clear as possible and as short as possible. Try to avoid asking questions that are too trivial or obvious.</p>\n",
    "\n",
    "<p>This is a bonus point question. The only way not to get full points are if you do the following:\n",
    "<ul>\n",
    "<li>You do not perform this task.\n",
    "<li>You do not include a solution. \n",
    "</ul>\n",
    "</p>\n",
    "<p>If the solution you provide is incorrect, you will still receive full points. But you must make an honest effort to get it right.\n",
    "</p>"
   ]
  },
  {
   "cell_type": "markdown",
   "metadata": {},
   "source": [
    "Write your question here.\n",
    "\n",
    "What percent of Person with Stable life (with higher stability parameters) : high pay job such as management , Highly educated(tertiary) and married have house\n",
    "v/s\n",
    "Person with less stable life ( with lower stability parameters) : Low pay  Jobs such as  blue-collar , Low education : primary , Unmarried  have house"
   ]
  },
  {
   "cell_type": "code",
   "execution_count": 180,
   "metadata": {},
   "outputs": [
    {
     "name": "stdout",
     "output_type": "stream",
     "text": [
      "Total Records:  4521\n",
      "\n",
      " Total Person in Stable Life have house   \n",
      "\n",
      "4.97677504976775\n",
      " \n",
      " % of  Person in Stable Life have house \n",
      "4.97677504976775\n",
      "  \n",
      "TOTAL  Person in less Stable Life- blue_collar job, not married, primary education have house\n",
      "\n",
      "1.3492590134925901\n",
      " \n",
      "% of  Person in less Stable Life- blue_collar job, not married, primary education have house\n",
      "\n",
      "1.3492590134925901\n",
      " \n",
      "  Is the  percentage who own house more for  person in stable life  than that of person not in stable life? :  \n",
      "True\n"
     ]
    }
   ],
   "source": [
    "#Write your solution here.\n",
    "print(\"Total Records: \",  len(df))\n",
    "print(\"\\n Total Person in Stable Life have house   \\n\")\n",
    "print(len(df[(df['job'] == 'management') & (df['marital'] == 'married') & (df['education'] == 'tertiary')& (df['housing'] == 'yes')]) / len(df)*100)\n",
    "\n",
    "\n",
    "print(\" \\n % of  Person in Stable Life have house \")\n",
    "unemp = (len(df[(df['job'] == 'management') & (df['marital'] == 'married') & (df['education'] == 'tertiary')& (df['housing'] == 'yes') ]) / len(df))*100\n",
    "print(unemp)\n",
    "\n",
    "\n",
    "print(\"  \\nTOTAL  Person in less Stable Life- blue_collar job, not married, primary education have house\\n\")\n",
    "\n",
    "\n",
    "print(len(df[(df['job'] == 'blue-collar') & (df['marital'] != 'married') & (df['education'] == 'primary')& (df['housing'] == 'yes') ]) / len(df) *100)\n",
    "\n",
    "\n",
    "\n",
    "print(\" \\n% of  Person in less Stable Life- blue_collar job, not married, primary education have house\\n\")\n",
    "\n",
    "emp = (len(df[(df['job'] == 'blue-collar') & (df['marital'] != 'married') & (df['education'] == 'primary')& (df['housing'] == 'yes') ]) / len(df)) *100\n",
    "print(emp)\n",
    "\n",
    "print(\" \\n  Is the  percentage who own house more for  person in stable life  than that of person not in stable life? :  \")\n",
    "print(unemp>emp)\n"
   ]
  }
 ],
 "metadata": {
  "kernelspec": {
   "display_name": "Python 3",
   "language": "python",
   "name": "python3"
  },
  "language_info": {
   "codemirror_mode": {
    "name": "ipython",
    "version": 3
   },
   "file_extension": ".py",
   "mimetype": "text/x-python",
   "name": "python",
   "nbconvert_exporter": "python",
   "pygments_lexer": "ipython3",
   "version": "3.7.4"
  }
 },
 "nbformat": 4,
 "nbformat_minor": 1
}
